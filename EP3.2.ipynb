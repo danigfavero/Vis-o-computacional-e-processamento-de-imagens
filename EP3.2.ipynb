{
 "cells": [
  {
   "cell_type": "markdown",
   "metadata": {},
   "source": [
    "# [MAC0417] Visão e Processamento de Imagens - Exercício Programa 3.2\n",
    "*22 de Janeiro de 2021*\n",
    "\n",
    "## Introdução \n",
    "A segunda parte do Exercício Programa 3 \n",
    "\n",
    "Integrantes do grupo:\n",
    "\n",
    "| Nome | NUSP |\n",
    "|------|------|\n",
    "| Daniela Favero | 10277443 |\n",
    "| Mateus Barbosa | 8993368 |\n",
    "| Vitor Guidi | 8038091 |\n",
    "\n",
    "A base de dados e os metadados se encontram no nosso repositório do [GitHub](https://github.com/danigfavero/Visao-computacional-e-processamento-de-imagens).\n",
    "\n",
    "## Preparação do ambiente de programação\n",
    "### Importando as bibliotecas necessárias para a implementação dos algoritmos"
   ]
  },
  {
   "cell_type": "code",
   "execution_count": 1,
   "metadata": {},
   "outputs": [],
   "source": [
    "import matplotlib.pyplot as plt\n",
    "import itertools\n",
    "import numpy as np\n",
    "import os\n",
    "from skimage import io\n",
    "from skimage.exposure import equalize_hist\n",
    "from matplotlib.pyplot import imshow\n",
    "\n",
    "from skimage.measure import perimeter\n",
    "from scipy.stats import mode"
   ]
  },
  {
   "cell_type": "markdown",
   "metadata": {},
   "source": [
    "bla"
   ]
  },
  {
   "cell_type": "markdown",
   "metadata": {},
   "source": [
    "## Feature Extraction"
   ]
  },
  {
   "cell_type": "code",
   "execution_count": 18,
   "metadata": {},
   "outputs": [],
   "source": [
    "def get_perimeter_area(img):\n",
    "    x, y = img.shape\n",
    "    area = x*y\n",
    "    per = perimeter(img)\n",
    "    return per/area\n",
    "\n",
    "def get_black_white_pixels_ratio(img):\n",
    "    x, y = img.shape\n",
    "    area = x*y\n",
    "    white = np.count_nonzero(img)\n",
    "    black = area - white\n",
    "    return black/white\n",
    "\n",
    "FEATURE_FUNCTIONS = [get_perimeter_area, get_black_white_pixels_ratio]"
   ]
  },
  {
   "cell_type": "markdown",
   "metadata": {},
   "source": [
    "bla"
   ]
  },
  {
   "cell_type": "code",
   "execution_count": 19,
   "metadata": {},
   "outputs": [],
   "source": [
    "def extract_features(img, img_name):\n",
    "    img = img/255 # normaliza branco de 255 para 1\n",
    "    \n",
    "    features = []\n",
    "    for f in FEATURE_FUNCTIONS:\n",
    "        features.append(f(img))\n",
    "    return [features, img_name]\n",
    "\n",
    "def extract_all_features(input_directory):\n",
    "    features = []\n",
    "    for subdir in os.scandir(input_directory):\n",
    "        for file in os.scandir(subdir):\n",
    "            path = file.path\n",
    "            for _ in range(3): # evitando erros de conexão (3 tentativas)\n",
    "                try:\n",
    "                    img = io.imread(path).astype(np.uint8)\n",
    "                    class = path.split(\"/\")[1]\n",
    "                    features.append(extract_features(img, path))\n",
    "                except ConnectionResetError:\n",
    "                    continue\n",
    "                break\n",
    "    return features"
   ]
  },
  {
   "cell_type": "code",
   "execution_count": 21,
   "metadata": {},
   "outputs": [],
   "source": [
    "features = extract_all_features(\"feret/\")"
   ]
  },
  {
   "cell_type": "code",
   "execution_count": 22,
   "metadata": {},
   "outputs": [
    {
     "name": "stdout",
     "output_type": "stream",
     "text": [
      "[[[0.012930712699268328, 5.697554494700875], 'feret/frigideiras/FRIGIDEIRA_NOITE_INDOOR_ESCURO1b.jpg'], [[0.0042847363077477725, 0.32550407704963313], 'feret/frigideiras/FRIGIDEIRA_NOITE_OUTDOOR_ESCURO2b.jpg'], [[0.10928358466538476, 0.3799642218246869], 'feret/frigideiras/FRIGIDEIRA_NOITE_OUTDOOR_CLARO3a.jpg'], [[0.006164367491861223, 0.7152086033544482], 'feret/frigideiras/FRIGIDEIRA_DIA_INDOOR_CLARO2b.jpg'], [[0.018720181994368264, 1.4472382485608408], 'feret/frigideiras/FRIGIDEIRA_NOITE_OUTDOOR_CLARO1a.jpg'], [[0.03262898568588519, 1.66935586081836], 'feret/frigideiras/FRIGIDEIRA_DIA_INDOOR_ESCURO1b.jpg'], [[0.0404967649556286, 1.5251724873891626], 'feret/frigideiras/FRIGIDEIRA_DIA_OUTDOOR_ESCURO2c.jpg'], [[0.11165151776889065, 0.4784852723182161], 'feret/frigideiras/FRIGIDEIRA_NOITE_INDOOR_ESCURO2a.jpg'], [[0.044185090117665526, 2.246458132331285], 'feret/frigideiras/FRIGIDEIRA_DIA_OUTDOOR_MADEIRA3a.jpg'], [[0.038940616097757216, 1.2783822831704401], 'feret/frigideiras/FRIGIDEIRA_DIA_INDOOR_ESCURO1a.jpg'], [[0.015606590042439562, 1.1607406271753904], 'feret/frigideiras/FRIGIDEIRA_NOITE_OUTDOOR_MADEIRA1b.jpg'], [[0.10928358466538476, 0.3799642218246869], 'feret/frigideiras/FRIGIDEIRA_NOITE_OUTDOOR_CLARO3c.jpg'], [[0.0943146635729888, 0.5461593934082626], 'feret/frigideiras/FRIGIDEIRA_NOITE_INDOOR_ESCURO2b.jpg'], [[0.011057727087203388, 1.871323513049994], 'feret/frigideiras/FRIGIDEIRA_NOITE_OUTDOOR_CLARO2c.jpg'], [[0.01301582344981047, 2.0535706164794525], 'feret/frigideiras/FRIGIDEIRA_NOITE_INDOOR_MADEIRA2a.jpg'], [[0.005893923349643822, 0.5811767456814662], 'feret/frigideiras/FRIGIDEIRA_NOITE_OUTDOOR_ESCURO1a.jpg'], [[0.04326419625685849, 2.524417643903924], 'feret/frigideiras/FRIGIDEIRA_DIA_INDOOR_CLARO3c.jpg'], [[0.033543482656801724, 0.7179054412843542], 'feret/frigideiras/FRIGIDEIRA_DIA_OUTDOOR_MADEIRA2b.jpg'], [[0.021710983717484846, 0.6110755506860781], 'feret/frigideiras/FRIGIDEIRA_NOITE_OUTDOOR_MADEIRA2a.jpg'], [[0.031771499957700906, 1.3367004063233423], 'feret/frigideiras/FRIGIDEIRA_DIA_OUTDOOR_ESCURO3c.jpg'], [[0.009422290716162598, 0.5613506128968491], 'feret/frigideiras/FRIGIDEIRA_DIA_OUTDOOR_CLARO1c.jpg'], [[0.024380050881840334, 0.872491056298249], 'feret/frigideiras/FRIGIDEIRA_DIA_OUTDOOR_ESCURO3b.jpg'], [[0.03997914124353982, 1.9704891926413748], 'feret/frigideiras/FRIGIDEIRA_DIA_OUTDOOR_MADEIRA3c.jpg'], [[0.023780262163506347, 1.0940715176849916], 'feret/frigideiras/FRIGIDEIRA_DIA_OUTDOOR_ESCURO3a.jpg'], [[0.05648387630377648, 0.886856701479905], 'feret/frigideiras/FRIGIDEIRA_DIA_OUTDOOR_MADEIRA1b.jpg'], [[0.03154396103881773, 0.7302854132996578], 'feret/frigideiras/FRIGIDEIRA_DIA_OUTDOOR_MADEIRA2a.jpg'], [[0.021187614188184878, 1.9131103137977292], 'feret/frigideiras/FRIGIDEIRA_DIA_INDOOR_MADEIRA1a.jpg'], [[0.012594680494608395, 0.5050498611920251], 'feret/frigideiras/FRIGIDEIRA_NOITE_INDOOR_CLARO1b.jpg'], [[0.09193244934229726, 0.43440892641737033], 'feret/frigideiras/FRIGIDEIRA_NOITE_INDOOR_ESCURO3c.jpg'], [[0.030670780248438802, 0.47859597212942634], 'feret/frigideiras/FRIGIDEIRA_NOITE_INDOOR_MADEIRA3b.jpg'], [[0.0539898191905081, 0.9009192743745621], 'feret/frigideiras/FRIGIDEIRA_DIA_OUTDOOR_CLARO2a.jpg'], [[0.005494706456811927, 6.064604992585674], 'feret/frigideiras/FRIGIDEIRA_DIA_OUTDOOR_ESCURO1c.jpg'], [[0.015970450276566142, 0.9274569603103795], 'feret/frigideiras/FRIGIDEIRA_NOITE_OUTDOOR_MADEIRA2c.jpg'], [[0.005213759142064159, 0.7317015865390095], 'feret/frigideiras/FRIGIDEIRA_NOITE_OUTDOOR_ESCURO1c.jpg'], [[0.009819376016325024, 1.925657351457222], 'feret/frigideiras/FRIGIDEIRA_DIA_OUTDOOR_ESCURO1b.jpg'], [[0.017832033239140024, 1.2286045991457817], 'feret/frigideiras/FRIGIDEIRA_NOITE_OUTDOOR_CLARO1b.jpg'], [[0.005829910693153029, 0.7058683312415599], 'feret/frigideiras/FRIGIDEIRA_DIA_INDOOR_CLARO2c.jpg'], [[0.025112581401305827, 0.7871122683553041], 'feret/frigideiras/FRIGIDEIRA_DIA_OUTDOOR_MADEIRA1c.jpg'], [[0.025507631231586125, 0.7132710868033816], 'feret/frigideiras/FRIGIDEIRA_DIA_OUTDOOR_MADEIRA2c.jpg'], [[0.019746286418646213, 0.5766997569316259], 'feret/frigideiras/FRIGIDEIRA_NOITE_OUTDOOR_MADEIRA1a.jpg'], [[0.018257237224116308, 6.356562366148921], 'feret/frigideiras/FRIGIDEIRA_NOITE_INDOOR_ESCURO1a.jpg'], [[0.024953638730232357, 1.9349929333638158], 'feret/frigideiras/FRIGIDEIRA_NOITE_INDOOR_MADEIRA1b.jpg'], [[0.05633530338975969, 1.5190169689877122], 'feret/frigideiras/FRIGIDEIRA_DIA_INDOOR_CLARO3a.jpg'], [[0.025823426142627597, 2.8952356045299035], 'feret/frigideiras/FRIGIDEIRA_NOITE_INDOOR_ESCURO1c.jpg'], [[0.017516917351910882, 0.8324389498045465], 'feret/frigideiras/FRIGIDEIRA_NOITE_OUTDOOR_MADEIRA2b.jpg'], [[0.009738744984746443, 0.7262071400793702], 'feret/frigideiras/FRIGIDEIRA_DIA_INDOOR_MADEIRA2a.jpg'], [[0.029018971105521877, 1.2727914481645826], 'feret/frigideiras/FRIGIDEIRA_DIA_INDOOR_ESCURO3c.jpg'], [[0.02910743938014854, 0.6807859928129062], 'feret/frigideiras/FRIGIDEIRA_NOITE_OUTDOOR_MADEIRA3b.jpg'], [[0.04133947608214067, 1.4600914918384225], 'feret/frigideiras/FRIGIDEIRA_DIA_OUTDOOR_ESCURO2b.jpg'], [[0.012853346954099055, 0.5389798875798585], 'feret/frigideiras/FRIGIDEIRA_NOITE_INDOOR_CLARO1a.jpg'], [[0.04754422992248224, 0.9511959249602295], 'feret/frigideiras/FRIGIDEIRA_DIA_OUTDOOR_CLARO2b.jpg'], [[0.006244314832487817, 0.5270720668661919], 'feret/frigideiras/FRIGIDEIRA_DIA_OUTDOOR_CLARO1a.jpg'], [[0.03212484516924284, 1.080946831008671], 'feret/frigideiras/FRIGIDEIRA_DIA_OUTDOOR_MADEIRA1a.jpg'], [[0.05008645940050015, 1.6474371126503828], 'feret/frigideiras/FRIGIDEIRA_NOITE_INDOOR_CLARO3c.jpg'], [[0.03811321219427672, 1.5990507188632095], 'feret/frigideiras/FRIGIDEIRA_DIA_OUTDOOR_ESCURO2a.jpg'], [[0.0686794623190277, 0.9135293938124734], 'feret/frigideiras/FRIGIDEIRA_DIA_INDOOR_ESCURO2a.jpg'], [[0.039196666894823616, 2.731872577932682], 'feret/frigideiras/FRIGIDEIRA_DIA_INDOOR_MADEIRA3c.jpg'], [[0.0230321637374287, 0.5380101360362763], 'feret/frigideiras/FRIGIDEIRA_DIA_INDOOR_CLARO1c.jpg'], [[0.0060045008708494475, 0.5293269160006476], 'feret/frigideiras/FRIGIDEIRA_NOITE_INDOOR_CLARO1c.jpg'], [[0.02670577575239043, 4.221779340304991], 'feret/frigideiras/FRIGIDEIRA_DIA_INDOOR_ESCURO3b.jpg'], [[0.07376489982103694, 0.13049686725921608], 'feret/frigideiras/FRIGIDEIRA_NOITE_INDOOR_ESCURO3a.jpg'], [[0.006034003544359993, 0.708088409537136], 'feret/frigideiras/FRIGIDEIRA_DIA_INDOOR_CLARO2a.jpg'], [[0.052509210915871254, 2.198718980334095], 'feret/frigideiras/FRIGIDEIRA_DIA_OUTDOOR_CLARO3b.jpg'], [[0.011062511782461865, 0.6794872724777199], 'feret/frigideiras/FRIGIDEIRA_DIA_INDOOR_MADEIRA2b.jpg'], [[0.023507216690342427, 0.7423365063015747], 'feret/frigideiras/FRIGIDEIRA_NOITE_OUTDOOR_CLARO1c.jpg'], [[0.01065475167587814, 0.6488132952563463], 'feret/frigideiras/FRIGIDEIRA_DIA_INDOOR_MADEIRA2c.jpg'], [[0.030572124899953913, 1.186985775062316], 'feret/frigideiras/FRIGIDEIRA_DIA_INDOOR_ESCURO3a.jpg'], [[0.004009581081500199, 0.5930898211360521], 'feret/frigideiras/FRIGIDEIRA_NOITE_OUTDOOR_ESCURO1b.jpg'], [[0.052509210915871254, 2.198718980334095], 'feret/frigideiras/FRIGIDEIRA_DIA_OUTDOOR_CLARO3c.jpg'], [[0.06883227491063451, 0.8051496700164262], 'feret/frigideiras/FRIGIDEIRA_DIA_INDOOR_ESCURO2b.jpg'], [[0.01203771416713709, 1.8704167720282292], 'feret/frigideiras/FRIGIDEIRA_NOITE_INDOOR_MADEIRA2c.jpg'], [[0.045263930132821865, 2.5188983855650524], 'feret/frigideiras/FRIGIDEIRA_DIA_OUTDOOR_CLARO3a.jpg'], [[0.04625324748383096, 0.7500604018079621], 'feret/frigideiras/FRIGIDEIRA_DIA_INDOOR_MADEIRA1c.jpg'], [[0.0398715091545867, 1.8640622497464097], 'feret/frigideiras/FRIGIDEIRA_DIA_INDOOR_CLARO3b.jpg'], [[0.05388273781455969, 0.9195876945663629], 'feret/frigideiras/FRIGIDEIRA_DIA_OUTDOOR_CLARO2c.jpg'], [[0.007543445371101643, 1.7637661736565418], 'feret/frigideiras/FRIGIDEIRA_NOITE_OUTDOOR_CLARO2b.jpg'], [[0.036771366641397026, 1.548236511801503], 'feret/frigideiras/FRIGIDEIRA_DIA_INDOOR_ESCURO1c.jpg'], [[0.004678155841985017, 0.35818517883573864], 'feret/frigideiras/FRIGIDEIRA_NOITE_OUTDOOR_ESCURO2c.jpg'], [[0.026278199660181634, 0.6790950587266581], 'feret/frigideiras/FRIGIDEIRA_NOITE_INDOOR_MADEIRA1c.jpg'], [[0.0051232217484887075, 0.378652329631108], 'feret/frigideiras/FRIGIDEIRA_NOITE_OUTDOOR_ESCURO2a.jpg'], [[0.03765352164921243, 0.28959655548410546], 'feret/frigideiras/FRIGIDEIRA_NOITE_INDOOR_MADEIRA3c.jpg'], [[0.029933941829132095, 1.324152510576637], 'feret/frigideiras/FRIGIDEIRA_DIA_INDOOR_MADEIRA1b.jpg'], [[0.008535403842207709, 0.6102081619432823], 'feret/frigideiras/FRIGIDEIRA_NOITE_INDOOR_CLARO2c.jpg'], [[0.03733402612572821, 0.4437009876080614], 'feret/frigideiras/FRIGIDEIRA_NOITE_OUTDOOR_ESCURO3c.jpg'], [[0.016281300498022837, 0.4991703681254676], 'feret/frigideiras/FRIGIDEIRA_DIA_INDOOR_CLARO1b.jpg'], [[0.03290035244488157, 0.483949299533022], 'feret/frigideiras/FRIGIDEIRA_NOITE_OUTDOOR_ESCURO3a.jpg'], [[0.018984569695536198, 0.421758342221545], 'feret/frigideiras/FRIGIDEIRA_DIA_INDOOR_CLARO1a.jpg'], [[0.0952415394412389, 0.5275635699413351], 'feret/frigideiras/FRIGIDEIRA_NOITE_INDOOR_ESCURO2c.jpg'], [[0.030785217046898176, 3.6725102319236016], 'feret/frigideiras/FRIGIDEIRA_DIA_OUTDOOR_MADEIRA3b.jpg'], [[0.05627499335341483, 1.054430481069399], 'feret/frigideiras/FRIGIDEIRA_NOITE_INDOOR_CLARO3b.jpg'], [[0.045603536151356476, 2.6689125118530717], 'feret/frigideiras/FRIGIDEIRA_DIA_INDOOR_MADEIRA3b.jpg'], [[0.02611841477681858, 0.11445245042577264], 'feret/frigideiras/FRIGIDEIRA_NOITE_OUTDOOR_MADEIRA3a.jpg'], [[0.02640802117209452, 0.6272192047722656], 'feret/frigideiras/FRIGIDEIRA_NOITE_INDOOR_MADEIRA1a.jpg'], [[0.011012159002558978, 1.9884992173536165], 'feret/frigideiras/FRIGIDEIRA_NOITE_INDOOR_MADEIRA2b.jpg'], [[0.012283029262312546, 0.5248069063986647], 'feret/frigideiras/FRIGIDEIRA_DIA_OUTDOOR_CLARO1b.jpg'], [[0.009187878083564407, 1.4203256615880389], 'feret/frigideiras/FRIGIDEIRA_NOITE_OUTDOOR_CLARO2a.jpg'], [[0.009469573262603127, 0.5932150876117995], 'feret/frigideiras/FRIGIDEIRA_NOITE_INDOOR_CLARO2b.jpg'], [[0.035167730316347685, 0.28114295262762135], 'feret/frigideiras/FRIGIDEIRA_NOITE_OUTDOOR_ESCURO3b.jpg'], [[0.05245516370950424, 1.3681990347221342], 'feret/frigideiras/FRIGIDEIRA_NOITE_INDOOR_CLARO3a.jpg'], [[0.10526819712882603, 0.44259246881247377], 'feret/frigideiras/FRIGIDEIRA_NOITE_OUTDOOR_CLARO3b.jpg'], [[0.12250178731367513, 0.5512387387387387], 'feret/frigideiras/FRIGIDEIRA_NOITE_INDOOR_ESCURO3b.jpg'], [[0.0637894012324928, 0.8157604809966239], 'feret/frigideiras/FRIGIDEIRA_DIA_INDOOR_ESCURO2c.jpg'], [[0.033055299446962075, 0.4805048737815546], 'feret/frigideiras/FRIGIDEIRA_NOITE_INDOOR_MADEIRA3a.jpg'], [[0.024342206784411062, 1.1205535028616966], 'feret/frigideiras/FRIGIDEIRA_NOITE_OUTDOOR_MADEIRA1c.jpg'], [[0.04595118678757248, 2.156467270809566], 'feret/frigideiras/FRIGIDEIRA_DIA_INDOOR_MADEIRA3a.jpg'], [[0.013595373575558754, 2.48342403517607], 'feret/frigideiras/FRIGIDEIRA_DIA_OUTDOOR_ESCURO1a.jpg'], [[0.030103274768409117, 0.44300827485073846], 'feret/frigideiras/FRIGIDEIRA_NOITE_OUTDOOR_MADEIRA3c.jpg'], [[0.008830060266492286, 0.6166895566918162], 'feret/frigideiras/FRIGIDEIRA_NOITE_INDOOR_CLARO2a.jpg'], [[0.07897549951208971, 0.825203412234238], 'feret/casacos/CASACO_DIA_INDOOR_ESCURO2c.jpg'], [[0.0005332737563294028, 47.456737157826794], 'feret/casacos/CASACO_DIA_OUTDOOR_ESCURO1b.jpg'], [[0.027973014080250908, 0.5620002777612444], 'feret/casacos/CASACO_NOITE_INDOOR_MADEIRA1a.jpg'], [[0.013937845995634442, 8.510885949186797], 'feret/casacos/CASACO_NOITE_INDOOR_MADEIRA2c.jpg'], [[0.04255954593021987, 1.9579122705318983], 'feret/casacos/CASACO_NOITE_OUTDOOR_MADEIRA2a.jpg'], [[0.015985959470068423, 7.107015017999589], 'feret/casacos/CASACO_NOITE_INDOOR_MADEIRA2a.jpg'], [[0.04100613967687853, 1.7160121037724694], 'feret/casacos/CASACO_NOITE_INDOOR_MADEIRA1c.jpg'], [[0.002138950559901968, 13.736007426098553], 'feret/casacos/CASACO_DIA_OUTDOOR_ESCURO1a.jpg'], [[0.04719563681519995, 2.4792540414702198], 'feret/casacos/CASACO_NOITE_OUTDOOR_CLARO2b.jpg'], [[0.0918904010836972, 0.32972877897773245], 'feret/casacos/CASACO_DIA_OUTDOOR_ESCURO3b.jpg'], [[0.06693393250469597, 1.1590069800781082], 'feret/casacos/CASACO_DIA_OUTDOOR_MADEIRA2b.jpg'], [[0.018231242764846747, 4.168713360074051], 'feret/casacos/CASACO_NOITE_OUTDOOR_MADEIRA3b.jpg'], [[0.04351807263572075, 3.4945346849047385], 'feret/casacos/CASACO_NOITE_INDOOR_ESCURO3b.jpg'], [[0.04161101291702618, 1.2540125440744894], 'feret/casacos/CASACO_DIA_INDOOR_MADEIRA2b.jpg']]\n"
     ]
    }
   ],
   "source": [
    "print(features)"
   ]
  },
  {
   "cell_type": "markdown",
   "metadata": {},
   "source": [
    "## Classificação"
   ]
  }
 ],
 "metadata": {
  "kernelspec": {
   "display_name": "Python 3",
   "language": "python",
   "name": "python3"
  },
  "language_info": {
   "codemirror_mode": {
    "name": "ipython",
    "version": 3
   },
   "file_extension": ".py",
   "mimetype": "text/x-python",
   "name": "python",
   "nbconvert_exporter": "python",
   "pygments_lexer": "ipython3",
   "version": "3.8.5"
  }
 },
 "nbformat": 4,
 "nbformat_minor": 4
}
