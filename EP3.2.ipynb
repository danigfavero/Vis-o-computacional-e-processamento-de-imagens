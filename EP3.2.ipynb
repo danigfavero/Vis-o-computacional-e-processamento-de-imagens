{
 "cells": [
  {
   "cell_type": "markdown",
   "metadata": {},
   "source": [
    "# [MAC0417] Visão e Processamento de Imagens - Exercício Programa 3.2\n",
    "*22 de Janeiro de 2021*\n",
    "\n",
    "## Introdução \n",
    "A segunda parte do Exercício Programa 3 \n",
    "\n",
    "Integrantes do grupo:\n",
    "\n",
    "| Nome | NUSP |\n",
    "|------|------|\n",
    "| Daniela Favero | 10277443 |\n",
    "| Mateus Barbosa | 8993368 |\n",
    "| Vitor Guidi | 8038091 |\n",
    "\n",
    "A base de dados e os metadados se encontram no nosso repositório do [GitHub](https://github.com/danigfavero/Visao-computacional-e-processamento-de-imagens).\n",
    "\n",
    "## Preparação do ambiente de programação\n",
    "### Importando as bibliotecas necessárias para a implementação dos algoritmos"
   ]
  },
  {
   "cell_type": "code",
   "execution_count": 15,
   "metadata": {},
   "outputs": [],
   "source": [
    "import matplotlib.pyplot as plt\n",
    "import itertools\n",
    "import numpy as np\n",
    "import os\n",
    "from skimage import io\n",
    "from skimage.exposure import equalize_hist\n",
    "from matplotlib.pyplot import imshow\n",
    "\n",
    "from skimage.measure import perimeter\n",
    "from scipy.stats import mode\n",
    "from sklearn import tree\n",
    "from sklearn.model_selection import train_test_split\n",
    "from sklearn.metrics import confusion_matrix"
   ]
  },
  {
   "cell_type": "markdown",
   "metadata": {},
   "source": [
    "## Feature Extraction\n",
    "A partir da Feret Box, extraímos algumas features relevantes para a classificação da imagem: a razão perímetro / área e a razão de pixels pretos por pixels brancos na imagem."
   ]
  },
  {
   "cell_type": "code",
   "execution_count": 16,
   "metadata": {},
   "outputs": [],
   "source": [
    "def get_perimeter_area(img):\n",
    "    x, y = img.shape\n",
    "    area = x*y\n",
    "    per = perimeter(img)\n",
    "    return per/area\n",
    "\n",
    "def get_black_white_pixels_ratio(img):\n",
    "    x, y = img.shape\n",
    "    area = x*y\n",
    "    white = np.count_nonzero(img)\n",
    "    black = area - white\n",
    "    if white == 0:\n",
    "        white = 1 # evita divisão por zero\n",
    "    return black/white\n",
    "\n",
    "FEATURE_FUNCTIONS = [get_perimeter_area, get_black_white_pixels_ratio]"
   ]
  },
  {
   "cell_type": "markdown",
   "metadata": {},
   "source": [
    "As funções `get_perimeter_area` e `get_black_white_pixels_ratio` implementam a extração da razão do perímetro pela área e da quantidade de pixels brancos por pixels pretos, respectivamente. `FEATURE_FUNCTIONS` é uma lista com todas as funções de extração de features, a serem usadas a seguir."
   ]
  },
  {
   "cell_type": "code",
   "execution_count": 17,
   "metadata": {},
   "outputs": [],
   "source": [
    "def extract_features(img):\n",
    "    img = img/255 # normaliza branco de 255 para 1\n",
    "    \n",
    "    features = []\n",
    "    for f in FEATURE_FUNCTIONS:\n",
    "        features.append(f(img))\n",
    "    return features\n",
    "\n",
    "def extract_all_features(input_directory):\n",
    "    features = []\n",
    "    classes = []\n",
    "    for subdir in os.scandir(input_directory):\n",
    "        for file in os.scandir(subdir):\n",
    "            path = file.path\n",
    "            for _ in range(3): # evitando erros de conexão (3 tentativas)\n",
    "                try:\n",
    "                    img = io.imread(path).astype(np.uint8)\n",
    "                    class_name = path.split(\"/\")[1]\n",
    "                    classes.append(class_name)\n",
    "                    features.append(extract_features(img))\n",
    "                except ConnectionResetError:\n",
    "                    continue\n",
    "                break\n",
    "    return features, classes"
   ]
  },
  {
   "cell_type": "markdown",
   "metadata": {},
   "source": [
    "As função `extract_features` extrai todas as features de uma única imagem; ela é chamada pela função `extract_all_features` para extrair o vetor de features de todas as imagens."
   ]
  },
  {
   "cell_type": "markdown",
   "metadata": {},
   "source": [
    "## Classificação"
   ]
  },
  {
   "cell_type": "code",
   "execution_count": 19,
   "metadata": {},
   "outputs": [],
   "source": [
    "features, classes = extract_all_features(\"feret/\")\n",
    "feature_train, feature_test, class_train, class_test = train_test_split(features, classes)\n",
    "clf = tree.DecisionTreeClassifier()\n",
    "clf.fit(feature_train, class_train)\n",
    "predicted = clf.predict(feature_test)\n",
    "confusion = confusion_matrix(class_test, predicted)"
   ]
  },
  {
   "cell_type": "markdown",
   "metadata": {},
   "source": [
    "Finalmente, separamos as features e as classes em conjuntos de teste e de treino, a fim de treinar o algoritmo de _machine learning_ e testá-lo a seguir. A matriz de confusão é obtida a partir da classe predita e da classe real para os objetos do conjunto de teste. "
   ]
  },
  {
   "cell_type": "code",
   "execution_count": 20,
   "metadata": {},
   "outputs": [
    {
     "name": "stdout",
     "output_type": "stream",
     "text": [
      "[[16  1  8  3]\n",
      " [ 4  0  0  2]\n",
      " [ 6  3 12  6]\n",
      " [ 7  2  4 13]]\n"
     ]
    }
   ],
   "source": [
    "print(confusion)"
   ]
  }
 ],
 "metadata": {
  "kernelspec": {
   "display_name": "Python 3",
   "language": "python",
   "name": "python3"
  },
  "language_info": {
   "codemirror_mode": {
    "name": "ipython",
    "version": 3
   },
   "file_extension": ".py",
   "mimetype": "text/x-python",
   "name": "python",
   "nbconvert_exporter": "python",
   "pygments_lexer": "ipython3",
   "version": "3.9.1+"
  }
 },
 "nbformat": 4,
 "nbformat_minor": 4
}
